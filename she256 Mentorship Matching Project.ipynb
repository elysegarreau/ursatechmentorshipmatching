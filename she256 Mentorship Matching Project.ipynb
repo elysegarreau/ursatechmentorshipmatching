{
 "cells": [
  {
   "cell_type": "markdown",
   "metadata": {},
   "source": [
    "# she256 & UrsaTech: Mentorship Matching Project\n",
    "\n",
    "Mentor Application: https://docs.google.com/forms/d/e/1FAIpQLSfLCTDHh7QMJfQFByVCSrTLb_P8loPeyi--UYDwkqZcVj-gfg/viewform \\\n",
    "Mentee Application: https://docs.google.com/forms/d/e/1FAIpQLScv19zMeVa7rVGo3M2vFGGVpgNLw8-iNv_jE4MFVIgG3OUCbQ/viewform\n"
   ]
  },
  {
   "cell_type": "markdown",
   "metadata": {},
   "source": [
    "# Organizing The Data\n",
    "**Given**: CSV file with all responses. \\\n",
    "**To do:** Create Mentor and Mentee object classes with their responses to the questions as attributes. Consider also making their matches & preference lists an attribute, but this will be filled in later.\n",
    "\n",
    "\n",
    "Example: We take row 5 of mentee data and create a new Mentee(), and assign it a mentee ID. For each of the columns in our DataFrame, we assign the attribute of this mentee. Say: menteeresponses[\"Interest\"] = [\"mathematics\", \"UI\", \"cryptography\"]. Then, mentee.interests will be set to the list [\"mathematics\", \"UI\", \"cryptography\"]. "
   ]
  },
  {
   "cell_type": "code",
   "execution_count": null,
   "metadata": {},
   "outputs": [],
   "source": []
  },
  {
   "cell_type": "markdown",
   "metadata": {},
   "source": [
    "# Creating Match Scores\n",
    "**Given**: Two lists: one list with Mentor object instances and one list with Mentee object instances.\\\n",
    "**To do**: The mentor and mentee objects will have attributes \"matches\" which will be null until now. Essentially this is a dictionary, which maps other mentor/mentee instances to a score. \n",
    "\n",
    "Example: Mentee #8 (indexed at 8, you can do mentee[8]) will have a dictionary of mentors: {mentor3: 4, mentor9: 3, etc...}. If you want to know a mentor or mentee's match score, you can do: mentee.matches[mentor] to get the score. "
   ]
  },
  {
   "cell_type": "code",
   "execution_count": null,
   "metadata": {},
   "outputs": [],
   "source": []
  },
  {
   "cell_type": "markdown",
   "metadata": {},
   "source": [
    "# Creating Preference Lists\n",
    "**Given**: Two lists: one list with Mentor object instances and one list with Mentee object instances.\\\n",
    "**To do**: The mentor and mentee objects will have attributes \"preferencelist\" which will be null until now. This is an ordered list, where preferencelist[0] is their best choice and preferencelist[n] is their worst choice. \n",
    "\n",
    "Example: Mentee #8 will have the list: [mentor3, mentor9, mentor7...]. If you want to know a mentor or mentee's best option, you can do: mentee.preferencelist[0]."
   ]
  },
  {
   "cell_type": "code",
   "execution_count": 4,
   "metadata": {},
   "outputs": [],
   "source": [
    "def preferencelists(mentees, mentors):\n",
    "    allmenteepreflists = {}\n",
    "    for mentee in mentees:\n",
    "        preflist = []\n",
    "        copy = mentee.matches\n",
    "        while copy:\n",
    "            bestmentor, score = maxscore(copy)\n",
    "            preflist.append(bestmentor)\n",
    "            del copy[bestmentor]\n",
    "        allmenteepreflists[mentee] = preflist\n",
    "    allmentorpreflists = {}\n",
    "    for mentor in mentors:\n",
    "        preflist = []\n",
    "        copy = mentor.matches\n",
    "        while copy:\n",
    "            bestmentee, score = maxscore(copy)\n",
    "            preflist.append(bestmentee)\n",
    "            del copy[bestmentee]\n",
    "        allmentorpreflists[mentor] = preflist\n",
    "    return allmenteepreflists, allmentorpreflists\n",
    "    \n",
    "\n",
    "def maxscore(mentormatchscores):\n",
    "    max = -1\n",
    "    bestmentor = None\n",
    "    for person, score in mentormatchscores:\n",
    "        if score > max:\n",
    "            max = score\n",
    "            bestmentor = person\n",
    "    return bestmentor, score"
   ]
  },
  {
   "cell_type": "markdown",
   "metadata": {},
   "source": [
    "# Stable Marriage Implementation\n",
    "**Given**: Two lists: one list with Mentor object instances and one list with Mentee object instances.\\\n",
    "**Output**: Dictionary: {mentee1: mentor2, mentee4: mentor8, etc...}\n",
    "**To do**: Based on the given preference lists, implement stable marriage and output the optimal pairs. The pairing will be mentee optimal. Until now, we've never had to address the issue of # mentors != # mentees. Here is where you can think about addressing this. "
   ]
  },
  {
   "cell_type": "code",
   "execution_count": 5,
   "metadata": {},
   "outputs": [],
   "source": [
    "def stableMarriage(mentorPrefs, menteePrefs):\n",
    "    proposals = {}\n",
    "    while len(proposals) != len(mentorPrefs):\n",
    "        for mentor, prefs in mentorPrefs.items():\n",
    "            bestChoice = max(prefs, key = prefs.get)\n",
    "            if bestChoice in proposals.values():\n",
    "                otherMentor = None\n",
    "                for key in menteePrefs[bestChoice].keys():\n",
    "                    if key in proposals.keys() and proposals[key] == bestChoice:\n",
    "                        otherMentor = key\n",
    "                if menteePrefs[bestChoice][mentor] > menteePrefs[bestChoice][otherMentor]:\n",
    "                    proposals[mentor] = bestChoice\n",
    "                    del proposals[otherMentor]\n",
    "                    del mentorPrefs[otherMentor][bestChoice]\n",
    "                else:\n",
    "                    del mentorPrefs[mentor][bestChoice]\n",
    "            else:\n",
    "                proposals[mentor] = bestChoice\n",
    "    return proposals"
   ]
  },
  {
   "cell_type": "markdown",
   "metadata": {},
   "source": [
    "# Displaying Final Results\n",
    "Put the final results into a DataFrame which includes both mentor and mentee email addreses & contact information. "
   ]
  },
  {
   "cell_type": "code",
   "execution_count": null,
   "metadata": {},
   "outputs": [],
   "source": []
  }
 ],
 "metadata": {
  "kernelspec": {
   "display_name": "Python 3",
   "language": "python",
   "name": "python3"
  },
  "language_info": {
   "codemirror_mode": {
    "name": "ipython",
    "version": 3
   },
   "file_extension": ".py",
   "mimetype": "text/x-python",
   "name": "python",
   "nbconvert_exporter": "python",
   "pygments_lexer": "ipython3",
   "version": "3.6.2"
  }
 },
 "nbformat": 4,
 "nbformat_minor": 2
}
