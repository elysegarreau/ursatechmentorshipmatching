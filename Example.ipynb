{
 "cells": [
  {
   "cell_type": "code",
   "execution_count": 1,
   "metadata": {},
   "outputs": [],
   "source": [
    "from classes import *\n",
    "from functions import *\n"
   ]
  },
  {
   "cell_type": "code",
   "execution_count": 2,
   "metadata": {},
   "outputs": [],
   "source": [
    "mentorsdf = output_dataframe(\"Data/test2/mentor.csv\", mentor_columns)\n",
    "menteesdf = output_dataframe(\"Data/test2/mentee.csv\", mentee_columns, 1)"
   ]
  },
  {
   "cell_type": "code",
   "execution_count": 3,
   "metadata": {},
   "outputs": [
    {
     "data": {
      "text/plain": [
       "{-1: <classes.Mentor at 0x1189c0ac8>,\n",
       " -2: <classes.Mentor at 0x1189c0c50>,\n",
       " -3: <classes.Mentor at 0x1189c0da0>,\n",
       " -4: <classes.Mentor at 0x1189c0e80>,\n",
       " -5: <classes.Mentor at 0x1189c0ef0>,\n",
       " -6: <classes.Mentor at 0x1189c0fd0>,\n",
       " -7: <classes.Mentor at 0x118a6f048>,\n",
       " -8: <classes.Mentor at 0x118a6f160>,\n",
       " -9: <classes.Mentor at 0x118a6f240>}"
      ]
     },
     "execution_count": 3,
     "metadata": {},
     "output_type": "execute_result"
    }
   ],
   "source": [
    "mentors = output_mentors(mentorsdf)\n",
    "mentors"
   ]
  },
  {
   "cell_type": "code",
   "execution_count": 4,
   "metadata": {},
   "outputs": [
    {
     "data": {
      "text/plain": [
       "{1: <classes.Mentee at 0x118a6f5f8>,\n",
       " 2: <classes.Mentee at 0x118a6f588>,\n",
       " 3: <classes.Mentee at 0x118a6f898>,\n",
       " 4: <classes.Mentee at 0x118a6f908>,\n",
       " 5: <classes.Mentee at 0x118a6fa58>,\n",
       " 6: <classes.Mentee at 0x118a6fb38>,\n",
       " 7: <classes.Mentee at 0x118a6fba8>,\n",
       " 8: <classes.Mentee at 0x118a6fdd8>}"
      ]
     },
     "execution_count": 4,
     "metadata": {},
     "output_type": "execute_result"
    }
   ],
   "source": [
    "mentees = output_mentees(menteesdf)\n",
    "mentees"
   ]
  },
  {
   "cell_type": "code",
   "execution_count": 5,
   "metadata": {},
   "outputs": [],
   "source": [
    "matchScore(mentees, mentors)"
   ]
  },
  {
   "cell_type": "code",
   "execution_count": 6,
   "metadata": {},
   "outputs": [
    {
     "data": {
      "text/plain": [
       "{-1: 17.00019073486328,\n",
       " -2: 25.677669529663685,\n",
       " -3: 20.544165330774643,\n",
       " -4: 33.25019073486328,\n",
       " -5: 33.5,\n",
       " -6: 6.000762939453125,\n",
       " -7: 9.544308381922104,\n",
       " -8: 17.295643525965072,\n",
       " -9: 6.294880586511948}"
      ]
     },
     "execution_count": 6,
     "metadata": {},
     "output_type": "execute_result"
    }
   ],
   "source": [
    "mentees[2].scores"
   ]
  },
  {
   "cell_type": "code",
   "execution_count": 7,
   "metadata": {},
   "outputs": [
    {
     "data": {
      "text/plain": [
       "{1: 14.000134869915236,\n",
       " 2: 25.00019073486328,\n",
       " 3: 9.875,\n",
       " 4: 40.29449911678539,\n",
       " 5: 65.625,\n",
       " 6: 18.91949911678539,\n",
       " 7: 27.627157918643757,\n",
       " 8: 23.63235294117647}"
      ]
     },
     "execution_count": 7,
     "metadata": {},
     "output_type": "execute_result"
    }
   ],
   "source": [
    "b = mentors[-1].scores.copy()\n",
    "b"
   ]
  },
  {
   "cell_type": "code",
   "execution_count": 8,
   "metadata": {},
   "outputs": [
    {
     "data": {
      "text/plain": [
       "5"
      ]
     },
     "execution_count": 8,
     "metadata": {},
     "output_type": "execute_result"
    }
   ],
   "source": [
    "maxscore(b)"
   ]
  },
  {
   "cell_type": "code",
   "execution_count": 9,
   "metadata": {},
   "outputs": [],
   "source": [
    "del b[4]"
   ]
  },
  {
   "cell_type": "code",
   "execution_count": 10,
   "metadata": {},
   "outputs": [
    {
     "data": {
      "text/plain": [
       "{1: 14.000134869915236,\n",
       " 2: 25.00019073486328,\n",
       " 3: 9.875,\n",
       " 5: 65.625,\n",
       " 6: 18.91949911678539,\n",
       " 7: 27.627157918643757,\n",
       " 8: 23.63235294117647}"
      ]
     },
     "execution_count": 10,
     "metadata": {},
     "output_type": "execute_result"
    }
   ],
   "source": [
    "b"
   ]
  },
  {
   "cell_type": "code",
   "execution_count": 11,
   "metadata": {},
   "outputs": [
    {
     "name": "stdout",
     "output_type": "stream",
     "text": [
      "{1: 50.0, 2: 20.677669529663685, 3: 2.1255394796609393, 4: 12.463834764831843, 5: 5.625134869915235, 6: 10.632952411890667, 7: 4.5625, 8: 25.919657126719763}\n"
     ]
    }
   ],
   "source": [
    "print(mentors[-2].scores)"
   ]
  },
  {
   "cell_type": "code",
   "execution_count": 12,
   "metadata": {},
   "outputs": [],
   "source": [
    "preferencelists(mentees, mentors)"
   ]
  },
  {
   "cell_type": "code",
   "execution_count": 13,
   "metadata": {},
   "outputs": [],
   "source": [
    "copy = mentors.get(-2).scores.copy()\n",
    "preflist = []"
   ]
  },
  {
   "cell_type": "code",
   "execution_count": 14,
   "metadata": {},
   "outputs": [
    {
     "data": {
      "text/plain": [
       "1"
      ]
     },
     "execution_count": 14,
     "metadata": {},
     "output_type": "execute_result"
    }
   ],
   "source": [
    "bestmentee = maxscore(copy)\n",
    "bestmentee"
   ]
  },
  {
   "cell_type": "code",
   "execution_count": 15,
   "metadata": {},
   "outputs": [
    {
     "data": {
      "text/plain": [
       "[1, 8, 2, 4, 6, 5, 7, 3]"
      ]
     },
     "execution_count": 15,
     "metadata": {},
     "output_type": "execute_result"
    }
   ],
   "source": [
    "mentors.get(-2).preferences"
   ]
  },
  {
   "cell_type": "code",
   "execution_count": 16,
   "metadata": {},
   "outputs": [],
   "source": [
    "proposals = stableMarriage(mentors, mentees)"
   ]
  },
  {
   "cell_type": "code",
   "execution_count": 17,
   "metadata": {},
   "outputs": [
    {
     "data": {
      "text/html": [
       "<div>\n",
       "<style scoped>\n",
       "    .dataframe tbody tr th:only-of-type {\n",
       "        vertical-align: middle;\n",
       "    }\n",
       "\n",
       "    .dataframe tbody tr th {\n",
       "        vertical-align: top;\n",
       "    }\n",
       "\n",
       "    .dataframe thead th {\n",
       "        text-align: right;\n",
       "    }\n",
       "</style>\n",
       "<table border=\"1\" class=\"dataframe\">\n",
       "  <thead>\n",
       "    <tr style=\"text-align: right;\">\n",
       "      <th></th>\n",
       "      <th>Mentee First</th>\n",
       "      <th>Mentee Last</th>\n",
       "      <th>Mentee Email</th>\n",
       "      <th>Mentee Phone</th>\n",
       "      <th>(Mentee) What are your main goals for this mentorship program?</th>\n",
       "      <th>(Mentee) Why are you interested in blockchain?</th>\n",
       "      <th>(Mentee) Why do you think blockchain is important?</th>\n",
       "      <th>Mentor First</th>\n",
       "      <th>Mentor Last</th>\n",
       "      <th>Mentor Email</th>\n",
       "      <th>Mentor Phone</th>\n",
       "      <th>(Mentor) What are your main goals for this mentorship program?</th>\n",
       "      <th>(Mentor) Why are you interested in blockchain?</th>\n",
       "      <th>(Mentor) Why do you think blockchain is important?</th>\n",
       "    </tr>\n",
       "  </thead>\n",
       "  <tbody>\n",
       "    <tr>\n",
       "      <th>0</th>\n",
       "      <td>Julia</td>\n",
       "      <td>Sugar</td>\n",
       "      <td>jules@berkeley.edu</td>\n",
       "      <td>555(333)2344</td>\n",
       "      <td>I have many goals</td>\n",
       "      <td>It is interesting</td>\n",
       "      <td>It is important</td>\n",
       "      <td>Alice</td>\n",
       "      <td>Beaumont</td>\n",
       "      <td>alice@gmail.com</td>\n",
       "      <td>1234567899</td>\n",
       "      <td>Teaching</td>\n",
       "      <td>It is very interesting to me.</td>\n",
       "      <td>Flexibility of application</td>\n",
       "    </tr>\n",
       "    <tr>\n",
       "      <th>1</th>\n",
       "      <td>Bob</td>\n",
       "      <td>Harrison</td>\n",
       "      <td>bob@yahoo.mail</td>\n",
       "      <td>(222) 444-555</td>\n",
       "      <td>To learn</td>\n",
       "      <td>Because</td>\n",
       "      <td>Reason</td>\n",
       "      <td>Kenny</td>\n",
       "      <td>1a</td>\n",
       "      <td>a@gmail.com</td>\n",
       "      <td>5101111111</td>\n",
       "      <td>NaN</td>\n",
       "      <td>NaN</td>\n",
       "      <td>NaN</td>\n",
       "    </tr>\n",
       "    <tr>\n",
       "      <th>2</th>\n",
       "      <td>Jay</td>\n",
       "      <td>A</td>\n",
       "      <td>test@gmail.com</td>\n",
       "      <td>234-5431-4951</td>\n",
       "      <td>Figure out exactly what I want to be when I gr...</td>\n",
       "      <td>Something I don't really have exposure or expe...</td>\n",
       "      <td>It can help businesses.</td>\n",
       "      <td>aa</td>\n",
       "      <td>aa</td>\n",
       "      <td>ajjiang@berkeley.edu</td>\n",
       "      <td>1234567890</td>\n",
       "      <td>NaN</td>\n",
       "      <td>NaN</td>\n",
       "      <td>NaN</td>\n",
       "    </tr>\n",
       "    <tr>\n",
       "      <th>3</th>\n",
       "      <td>xx</td>\n",
       "      <td>xx</td>\n",
       "      <td>ajjiang@berkeley.edu</td>\n",
       "      <td>1234567890</td>\n",
       "      <td>NaN</td>\n",
       "      <td>NaN</td>\n",
       "      <td>NaN</td>\n",
       "      <td>Allen</td>\n",
       "      <td>Li</td>\n",
       "      <td>allenli75@berkeley.edu</td>\n",
       "      <td>8058321156</td>\n",
       "      <td>NaN</td>\n",
       "      <td>NaN</td>\n",
       "      <td>NaN</td>\n",
       "    </tr>\n",
       "    <tr>\n",
       "      <th>4</th>\n",
       "      <td>Kenny</td>\n",
       "      <td>2b</td>\n",
       "      <td>b@gmail.com</td>\n",
       "      <td>22222222222</td>\n",
       "      <td>NaN</td>\n",
       "      <td>NaN</td>\n",
       "      <td>NaN</td>\n",
       "      <td>kenny</td>\n",
       "      <td>2a</td>\n",
       "      <td>b1@gmail.com</td>\n",
       "      <td>2222222221</td>\n",
       "      <td>NaN</td>\n",
       "      <td>NaN</td>\n",
       "      <td>NaN</td>\n",
       "    </tr>\n",
       "    <tr>\n",
       "      <th>5</th>\n",
       "      <td>kenny</td>\n",
       "      <td>1b</td>\n",
       "      <td>1b@gmail.com</td>\n",
       "      <td>5101111111</td>\n",
       "      <td>NaN</td>\n",
       "      <td>NaN</td>\n",
       "      <td>NaN</td>\n",
       "      <td>Jasmine</td>\n",
       "      <td>Ang</td>\n",
       "      <td>testing123@gmail.com</td>\n",
       "      <td>234-964-1247</td>\n",
       "      <td>Would like to provide mentorship just like I r...</td>\n",
       "      <td>It is something I think more people should kno...</td>\n",
       "      <td>It's going to grow in its importance in the fu...</td>\n",
       "    </tr>\n",
       "    <tr>\n",
       "      <th>6</th>\n",
       "      <td>zz</td>\n",
       "      <td>zz</td>\n",
       "      <td>ajjiang@berkeley.edu</td>\n",
       "      <td>1234567890</td>\n",
       "      <td>NaN</td>\n",
       "      <td>NaN</td>\n",
       "      <td>NaN</td>\n",
       "      <td>Elyse</td>\n",
       "      <td>Garreau</td>\n",
       "      <td>egarreau@berkeley.edu</td>\n",
       "      <td>6508899836</td>\n",
       "      <td>NaN</td>\n",
       "      <td>NaN</td>\n",
       "      <td>NaN</td>\n",
       "    </tr>\n",
       "    <tr>\n",
       "      <th>7</th>\n",
       "      <td>yy</td>\n",
       "      <td>yy</td>\n",
       "      <td>ajjiang@berkeley.edu</td>\n",
       "      <td>1234567890</td>\n",
       "      <td>NaN</td>\n",
       "      <td>NaN</td>\n",
       "      <td>NaN</td>\n",
       "      <td>bb</td>\n",
       "      <td>bb</td>\n",
       "      <td>ajjiang@berkeley.edu</td>\n",
       "      <td>1234567890</td>\n",
       "      <td>NaN</td>\n",
       "      <td>NaN</td>\n",
       "      <td>NaN</td>\n",
       "    </tr>\n",
       "  </tbody>\n",
       "</table>\n",
       "</div>"
      ],
      "text/plain": [
       "  Mentee First Mentee Last          Mentee Email   Mentee Phone  \\\n",
       "0        Julia       Sugar    jules@berkeley.edu   555(333)2344   \n",
       "1          Bob    Harrison        bob@yahoo.mail  (222) 444-555   \n",
       "2          Jay           A        test@gmail.com  234-5431-4951   \n",
       "3           xx          xx  ajjiang@berkeley.edu     1234567890   \n",
       "4        Kenny          2b           b@gmail.com    22222222222   \n",
       "5        kenny          1b          1b@gmail.com     5101111111   \n",
       "6           zz          zz  ajjiang@berkeley.edu     1234567890   \n",
       "7           yy          yy  ajjiang@berkeley.edu     1234567890   \n",
       "\n",
       "  (Mentee) What are your main goals for this mentorship program?  \\\n",
       "0                                  I have many goals               \n",
       "1                                           To learn               \n",
       "2  Figure out exactly what I want to be when I gr...               \n",
       "3                                                NaN               \n",
       "4                                                NaN               \n",
       "5                                                NaN               \n",
       "6                                                NaN               \n",
       "7                                                NaN               \n",
       "\n",
       "      (Mentee) Why are you interested in blockchain?  \\\n",
       "0                                  It is interesting   \n",
       "1                                            Because   \n",
       "2  Something I don't really have exposure or expe...   \n",
       "3                                                NaN   \n",
       "4                                                NaN   \n",
       "5                                                NaN   \n",
       "6                                                NaN   \n",
       "7                                                NaN   \n",
       "\n",
       "  (Mentee) Why do you think blockchain is important? Mentor First Mentor Last  \\\n",
       "0                                    It is important        Alice    Beaumont   \n",
       "1                                             Reason        Kenny          1a   \n",
       "2                            It can help businesses.           aa          aa   \n",
       "3                                                NaN        Allen          Li   \n",
       "4                                                NaN        kenny          2a   \n",
       "5                                                NaN      Jasmine         Ang   \n",
       "6                                                NaN        Elyse     Garreau   \n",
       "7                                                NaN           bb          bb   \n",
       "\n",
       "             Mentor Email  Mentor Phone  \\\n",
       "0         alice@gmail.com    1234567899   \n",
       "1             a@gmail.com    5101111111   \n",
       "2    ajjiang@berkeley.edu    1234567890   \n",
       "3  allenli75@berkeley.edu    8058321156   \n",
       "4            b1@gmail.com    2222222221   \n",
       "5    testing123@gmail.com  234-964-1247   \n",
       "6   egarreau@berkeley.edu    6508899836   \n",
       "7    ajjiang@berkeley.edu    1234567890   \n",
       "\n",
       "  (Mentor) What are your main goals for this mentorship program?  \\\n",
       "0                                           Teaching               \n",
       "1                                                NaN               \n",
       "2                                                NaN               \n",
       "3                                                NaN               \n",
       "4                                                NaN               \n",
       "5  Would like to provide mentorship just like I r...               \n",
       "6                                                NaN               \n",
       "7                                                NaN               \n",
       "\n",
       "      (Mentor) Why are you interested in blockchain?  \\\n",
       "0                      It is very interesting to me.   \n",
       "1                                                NaN   \n",
       "2                                                NaN   \n",
       "3                                                NaN   \n",
       "4                                                NaN   \n",
       "5  It is something I think more people should kno...   \n",
       "6                                                NaN   \n",
       "7                                                NaN   \n",
       "\n",
       "  (Mentor) Why do you think blockchain is important?  \n",
       "0                         Flexibility of application  \n",
       "1                                                NaN  \n",
       "2                                                NaN  \n",
       "3                                                NaN  \n",
       "4                                                NaN  \n",
       "5  It's going to grow in its importance in the fu...  \n",
       "6                                                NaN  \n",
       "7                                                NaN  "
      ]
     },
     "metadata": {},
     "output_type": "display_data"
    }
   ],
   "source": [
    "output_final(proposals, mentors, mentees)"
   ]
  },
  {
   "cell_type": "code",
   "execution_count": null,
   "metadata": {},
   "outputs": [],
   "source": []
  }
 ],
 "metadata": {
  "kernelspec": {
   "display_name": "Python 3",
   "language": "python",
   "name": "python3"
  },
  "language_info": {
   "codemirror_mode": {
    "name": "ipython",
    "version": 3
   },
   "file_extension": ".py",
   "mimetype": "text/x-python",
   "name": "python",
   "nbconvert_exporter": "python",
   "pygments_lexer": "ipython3",
   "version": "3.6.2"
  }
 },
 "nbformat": 4,
 "nbformat_minor": 2
}
