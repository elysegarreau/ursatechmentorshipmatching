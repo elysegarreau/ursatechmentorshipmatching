{
 "cells": [
  {
   "cell_type": "code",
   "execution_count": 16,
   "metadata": {},
   "outputs": [],
   "source": [
    "import pandas as pd\n",
    "columnsList = [\"menteeFirst\", \"menteeLast\", \"menteeEmail\", \"menteePhone\", \"mentorFirst\", \"mentorLast\", \"mentorEmail\", \"mentorPhone\"]\n",
    "final = pd.DataFrame(columns = columnsList)"
   ]
  },
  {
   "cell_type": "code",
   "execution_count": 17,
   "metadata": {},
   "outputs": [
    {
     "ename": "NameError",
     "evalue": "name 'menteesList' is not defined",
     "output_type": "error",
     "traceback": [
      "\u001b[0;31m---------------------------------------------------------------------------\u001b[0m",
      "\u001b[0;31mNameError\u001b[0m                                 Traceback (most recent call last)",
      "\u001b[0;32m<ipython-input-17-ed85ebc6a96a>\u001b[0m in \u001b[0;36m<module>\u001b[0;34m\u001b[0m\n\u001b[1;32m      6\u001b[0m \u001b[0;32mfor\u001b[0m \u001b[0mi\u001b[0m \u001b[0;32min\u001b[0m \u001b[0mproposalKeys\u001b[0m\u001b[0;34m:\u001b[0m\u001b[0;34m\u001b[0m\u001b[0m\n\u001b[1;32m      7\u001b[0m     \u001b[0mcurrMentee\u001b[0m \u001b[0;34m=\u001b[0m \u001b[0mi\u001b[0m\u001b[0;34m\u001b[0m\u001b[0m\n\u001b[0;32m----> 8\u001b[0;31m     \u001b[0mcurrMenteeObject\u001b[0m \u001b[0;34m=\u001b[0m \u001b[0mmenteesList\u001b[0m\u001b[0;34m.\u001b[0m\u001b[0mget\u001b[0m\u001b[0;34m(\u001b[0m\u001b[0mcurrMentee\u001b[0m\u001b[0;34m)\u001b[0m\u001b[0;34m\u001b[0m\u001b[0m\n\u001b[0m\u001b[1;32m      9\u001b[0m \u001b[0;34m\u001b[0m\u001b[0m\n\u001b[1;32m     10\u001b[0m     \u001b[0mmenteeFirst\u001b[0m \u001b[0;34m=\u001b[0m \u001b[0mcurrMenteeObject\u001b[0m\u001b[0;34m.\u001b[0m\u001b[0mfirst\u001b[0m\u001b[0;34m\u001b[0m\u001b[0m\n",
      "\u001b[0;31mNameError\u001b[0m: name 'menteesList' is not defined"
     ]
    }
   ],
   "source": [
    "proposals = {3:2, 5:6, 8:9, 4:10}\n",
    "proposalKeys = proposals.keys()\n",
    "\n",
    "#mentee or mentor List = {id: Object}\n",
    "\n",
    "for i in proposalKeys:\n",
    "    currMentee = i\n",
    "    currMenteeObject = menteesList.get(currMentee)\n",
    "    \n",
    "    menteeFirst = currMenteeObject.first\n",
    "    menteeLast = currMenteeObject.last\n",
    "    menteeEmail = currMenteeObject.email\n",
    "    menteePhone = currMenteeObject.phone\n",
    "    \n",
    "    currMentor = proposalKeys.get(i)\n",
    "    currMentorObject = mentorsList.get(currMentor)\n",
    "    \n",
    "    mentorFirst = currMentorObject.first\n",
    "    mentorLast = currMentorObject.last\n",
    "    mentorEmail = currMentorObject.email\n",
    "    mentorPhone = currMentorObject.phone\n",
    "    \n",
    "    currValues = [menteeFirst, menteeLast, menteeEmail, menteePhone, mentorFirst, mentorLast, mentorEmail, mentorPhone]\n",
    "    \n",
    "    curr = pd.DataFrame(currValues, columns=columnsList)\n",
    "    final.append(curr)\n",
    "\n",
    "display(final)"
   ]
  }
 ],
 "metadata": {
  "kernelspec": {
   "display_name": "Python 3",
   "language": "python",
   "name": "python3"
  },
  "language_info": {
   "codemirror_mode": {
    "name": "ipython",
    "version": 3
   },
   "file_extension": ".py",
   "mimetype": "text/x-python",
   "name": "python",
   "nbconvert_exporter": "python",
   "pygments_lexer": "ipython3",
   "version": "3.6.2"
  }
 },
 "nbformat": 4,
 "nbformat_minor": 2
}
