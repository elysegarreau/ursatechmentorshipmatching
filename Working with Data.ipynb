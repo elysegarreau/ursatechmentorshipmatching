{
 "cells": [
  {
   "cell_type": "code",
   "execution_count": 11,
   "metadata": {},
   "outputs": [
    {
     "data": {
      "text/html": [
       "<div>\n",
       "<style scoped>\n",
       "    .dataframe tbody tr th:only-of-type {\n",
       "        vertical-align: middle;\n",
       "    }\n",
       "\n",
       "    .dataframe tbody tr th {\n",
       "        vertical-align: top;\n",
       "    }\n",
       "\n",
       "    .dataframe thead th {\n",
       "        text-align: right;\n",
       "    }\n",
       "</style>\n",
       "<table border=\"1\" class=\"dataframe\">\n",
       "  <thead>\n",
       "    <tr style=\"text-align: right;\">\n",
       "      <th></th>\n",
       "      <th>Timestamp</th>\n",
       "      <th>Email Address</th>\n",
       "      <th>First</th>\n",
       "      <th>Last</th>\n",
       "      <th>Phone Number</th>\n",
       "      <th>What are your professional interests/passions?</th>\n",
       "      <th>What are some of your hobbies/interests?</th>\n",
       "      <th>What is your main goal for this mentorship program?</th>\n",
       "      <th>Where are you geographically located?</th>\n",
       "      <th>What is your major or intended major?</th>\n",
       "      <th>What is your dream occupation?</th>\n",
       "      <th>What is your Myers-Briggs personality type?</th>\n",
       "      <th>On a scale of 1 to 5, how introverted or extraverted are you?</th>\n",
       "      <th>Would you like to be paired with someone who is extraverted or introverted, or are both fine?</th>\n",
       "      <th>How often can you/do you intend to meet with your mentor?</th>\n",
       "      <th>What is your experience with blockchain?</th>\n",
       "      <th>On a scale of 1 to 5, what is your level of technical expertise?</th>\n",
       "      <th>Why are you interested in blockchain?</th>\n",
       "      <th>Why do you think blockchain is important?</th>\n",
       "    </tr>\n",
       "  </thead>\n",
       "  <tbody>\n",
       "    <tr>\n",
       "      <th>0</th>\n",
       "      <td>3/19/2020 16:38:19</td>\n",
       "      <td>egarreau@berkeley.edu</td>\n",
       "      <td>1</td>\n",
       "      <td>11</td>\n",
       "      <td>(133)484-4444</td>\n",
       "      <td>Blockchain, Computer Science, Distributed Systems</td>\n",
       "      <td>Sports, Cooking</td>\n",
       "      <td>To get advice and feedback about career goals,...</td>\n",
       "      <td>NorCal</td>\n",
       "      <td>Business, Cognitive Science</td>\n",
       "      <td>CTO</td>\n",
       "      <td>INTJ</td>\n",
       "      <td>4.0</td>\n",
       "      <td>Extraverted</td>\n",
       "      <td>Once every 2-3 weeks</td>\n",
       "      <td>Professional/Industry</td>\n",
       "      <td>8</td>\n",
       "      <td>I have enjoyed a project I worked on that used...</td>\n",
       "      <td>Emerging technology with great potential socia...</td>\n",
       "    </tr>\n",
       "    <tr>\n",
       "      <th>1</th>\n",
       "      <td>3/19/2020 16:38:43</td>\n",
       "      <td>egarreau@berkeley.edu</td>\n",
       "      <td>2</td>\n",
       "      <td>12</td>\n",
       "      <td>1235673333</td>\n",
       "      <td>Web Development, Business/Finance, Entrepreneu...</td>\n",
       "      <td>Dance, Outdoor Activities</td>\n",
       "      <td>Build meaningful relationships and expand conn...</td>\n",
       "      <td>SoCal</td>\n",
       "      <td>Business</td>\n",
       "      <td>Founder/CEO</td>\n",
       "      <td>ENTJ</td>\n",
       "      <td>5.0</td>\n",
       "      <td>Extraverted</td>\n",
       "      <td>Once every 2-3 weeks</td>\n",
       "      <td>Well versed</td>\n",
       "      <td>3</td>\n",
       "      <td>NaN</td>\n",
       "      <td>NaN</td>\n",
       "    </tr>\n",
       "  </tbody>\n",
       "</table>\n",
       "</div>"
      ],
      "text/plain": [
       "            Timestamp          Email Address First Last   Phone Number  \\\n",
       "0  3/19/2020 16:38:19  egarreau@berkeley.edu     1   11  (133)484-4444   \n",
       "1  3/19/2020 16:38:43  egarreau@berkeley.edu     2   12     1235673333   \n",
       "\n",
       "      What are your professional interests/passions?  \\\n",
       "0  Blockchain, Computer Science, Distributed Systems   \n",
       "1  Web Development, Business/Finance, Entrepreneu...   \n",
       "\n",
       "  What are some of your hobbies/interests?  \\\n",
       "0                          Sports, Cooking   \n",
       "1                Dance, Outdoor Activities   \n",
       "\n",
       "  What is your main goal for this mentorship program?  \\\n",
       "0  To get advice and feedback about career goals,...    \n",
       "1  Build meaningful relationships and expand conn...    \n",
       "\n",
       "  Where are you geographically located? What is your major or intended major?  \\\n",
       "0                                NorCal           Business, Cognitive Science   \n",
       "1                                 SoCal                              Business   \n",
       "\n",
       "  What is your dream occupation? What is your Myers-Briggs personality type?  \\\n",
       "0                            CTO                                        INTJ   \n",
       "1                    Founder/CEO                                        ENTJ   \n",
       "\n",
       "   On a scale of 1 to 5, how introverted or extraverted are you?  \\\n",
       "0                                                4.0               \n",
       "1                                                5.0               \n",
       "\n",
       "  Would you like to be paired with someone who is extraverted or introverted, or are both fine?  \\\n",
       "0                                        Extraverted                                              \n",
       "1                                        Extraverted                                              \n",
       "\n",
       "  How often can you/do you intend to meet with your mentor?  \\\n",
       "0                               Once every 2-3 weeks          \n",
       "1                               Once every 2-3 weeks          \n",
       "\n",
       "  What is your experience with blockchain?  \\\n",
       "0                    Professional/Industry   \n",
       "1                              Well versed   \n",
       "\n",
       "   On a scale of 1 to 5, what is your level of technical expertise?  \\\n",
       "0                                                  8                  \n",
       "1                                                  3                  \n",
       "\n",
       "               Why are you interested in blockchain?  \\\n",
       "0  I have enjoyed a project I worked on that used...   \n",
       "1                                                NaN   \n",
       "\n",
       "           Why do you think blockchain is important?  \n",
       "0  Emerging technology with great potential socia...  \n",
       "1                                                NaN  "
      ]
     },
     "execution_count": 11,
     "metadata": {},
     "output_type": "execute_result"
    }
   ],
   "source": [
    "import pandas as pd\n",
    "mentees = pd.read_csv(\"samplementee.csv\")\n",
    "mentees.head(2)"
   ]
  },
  {
   "cell_type": "code",
   "execution_count": 12,
   "metadata": {},
   "outputs": [
    {
     "data": {
      "text/plain": [
       "(15, 19)"
      ]
     },
     "execution_count": 12,
     "metadata": {},
     "output_type": "execute_result"
    }
   ],
   "source": [
    "#Shape function! \n",
    "mentees.shape\n",
    "#rows, columns"
   ]
  },
  {
   "cell_type": "code",
   "execution_count": 13,
   "metadata": {},
   "outputs": [],
   "source": [
    "rows = mentees.shape[0]\n",
    "columns = mentees.shape[1]"
   ]
  },
  {
   "cell_type": "code",
   "execution_count": 15,
   "metadata": {},
   "outputs": [
    {
     "data": {
      "text/plain": [
       "Timestamp                                                                                                                       3/19/2020 16:38:19\n",
       "Email Address                                                                                                                egarreau@berkeley.edu\n",
       "First                                                                                                                                            1\n",
       "Last                                                                                                                                            11\n",
       "Phone Number                                                                                                                         (133)484-4444\n",
       "What are your professional interests/passions?                                                   Blockchain, Computer Science, Distributed Systems\n",
       "What are some of your hobbies/interests?                                                                                           Sports, Cooking\n",
       "What is your main goal for this mentorship program?                                              To get advice and feedback about career goals,...\n",
       "Where are you geographically located?                                                                                                       NorCal\n",
       "What is your major or intended major?                                                                                  Business, Cognitive Science\n",
       "What is your dream occupation?                                                                                                                 CTO\n",
       "What is your Myers-Briggs personality type?                                                                                                   INTJ\n",
       "On a scale of 1 to 5, how introverted or extraverted are you?                                                                                    4\n",
       "Would you like to be paired with someone who is extraverted or introverted, or are both fine?                                          Extraverted\n",
       "How often can you/do you intend to meet with your mentor?                                                                     Once every 2-3 weeks\n",
       "What is your experience with blockchain?                                                                                     Professional/Industry\n",
       "On a scale of 1 to 5, what is your level of technical expertise?                                                                                 8\n",
       "Why are you interested in blockchain?                                                            I have enjoyed a project I worked on that used...\n",
       "Why do you think blockchain is important?                                                        Emerging technology with great potential socia...\n",
       "Name: 0, dtype: object"
      ]
     },
     "metadata": {},
     "output_type": "display_data"
    }
   ],
   "source": [
    "display(mentees.loc[0])\n",
    "attributes = list(mentees.loc[0])"
   ]
  },
  {
   "cell_type": "code",
   "execution_count": 19,
   "metadata": {},
   "outputs": [],
   "source": [
    "questions = mentees.columns"
   ]
  },
  {
   "cell_type": "code",
   "execution_count": 33,
   "metadata": {},
   "outputs": [],
   "source": [
    "class Mentee:\n",
    "    identification = 0\n",
    "    first = \"\"\n",
    "    last = \"\"\n",
    "    phone = \"\"\n",
    "    interests = []\n",
    "    hobbies = []\n",
    "    goals = []\n",
    "    location = 0\n",
    "    major = []\n",
    "    occupation = 0\n",
    "    introversion = 0\n",
    "    mentor_introversion = 0\n",
    "    how_often = 0\n",
    "    bc_experience = 0\n",
    "    tech_expertise = 0\n",
    "    why = \"\"\n",
    "    why_important = \"\"\n",
    "    \n",
    "    def __init__(self, identification):\n",
    "        self.identification = identification"
   ]
  },
  {
   "cell_type": "code",
   "execution_count": 43,
   "metadata": {},
   "outputs": [
    {
     "data": {
      "text/plain": [
       "['Jane', 'Yay', 'Elyse', 'Healthy', 'Happy']"
      ]
     },
     "execution_count": 43,
     "metadata": {},
     "output_type": "execute_result"
    }
   ],
   "source": [
    "names = []\n",
    "for i in range(rows):\n",
    "    names += [mentees.loc[i][\"First\"]]\n",
    "names[10:]"
   ]
  },
  {
   "cell_type": "code",
   "execution_count": 35,
   "metadata": {},
   "outputs": [],
   "source": [
    "menteeList = {}\n",
    "\n",
    "for i in range(rows):\n",
    "    currMentee = Mentee(i)\n",
    "    answers = mentees.loc[i]\n",
    "    currMentee.first = answers[\"First\"]\n",
    "    currMentee.last = answers[\"Last\"]\n",
    "    currMentee.phone = answers[]"
   ]
  },
  {
   "cell_type": "code",
   "execution_count": null,
   "metadata": {},
   "outputs": [],
   "source": []
  }
 ],
 "metadata": {
  "kernelspec": {
   "display_name": "Python 3",
   "language": "python",
   "name": "python3"
  },
  "language_info": {
   "codemirror_mode": {
    "name": "ipython",
    "version": 3
   },
   "file_extension": ".py",
   "mimetype": "text/x-python",
   "name": "python",
   "nbconvert_exporter": "python",
   "pygments_lexer": "ipython3",
   "version": "3.6.2"
  }
 },
 "nbformat": 4,
 "nbformat_minor": 2
}
